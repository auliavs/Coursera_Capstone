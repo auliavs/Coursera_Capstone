{
    "cells": [
        {
            "cell_type": "markdown",
            "metadata": {
                "collapsed": true
            },
            "source": "# Coursera Capstone Project - The Battle of Neighborhoods (Week 1)\n\n### Aulia V. Suraperwata"
        },
        {
            "cell_type": "markdown",
            "metadata": {},
            "source": "### Contents\n\n1. Introduction Section : Discussion of the business problem and the interested audience in this project.\n2. Data Section: Description of the data that will be used to solve the problem and the sources.\n3. Methodology section : Discussion and description of exploratory data analysis carried out, any inferential statistical testing performed, and if any machine learnings were used establishing the strategy and purposes.\n4. Results section : Discussion of the results.\n5. Discussion section : Elaboration and discussion on any observations noted and any recommendations suggested based on the results.\n6. Conclusion section : Report Conclusion."
        },
        {
            "cell_type": "markdown",
            "metadata": {},
            "source": "## 1. Introduction Section :\n### Description of the Problem and Background\n\n\nI currently live in Jakarta, Indonesia within walking distance to Sudirman CBD with MRT station. I enjoy many ammenities and venues in the area, such as various international cousine restaurants, cafes, food shops and entertainment. I have been offered a great opportunity to work for a tech company in Manhattan, NY. I am very excited and I want to use this opportunity to practice my learnings in Coursera in order to answer relevant questions arisen. The key question is : How can I find a convenient and enjoyable place similar to mine now in Jakarta? Certainly, I can use available real estate apps and Google but the idea is to use and apply myself the learned tools during the course. In order to make a comparison and evaluation of the rental options in Manhattan NY, I must set some basis, therefore the apartment in Manhattan must meet the following demands:\n\n- apartment must be 2 or 3 bedrooms\n- desired location is near a metro station in the Manhattan area and within 1.0 mile (1.6 km) radius\n- price of rent not exceed $7000 per month\n- top ammenities in the selected neighborhood shall be similar to current residence\n- desirable to have venues such as coffee shops, restaurants Asian Thai, wine stores, gym and food shops\n\n### Business Problem:\n\nThe challenge is to find a suitable apartment for rent in Manhattan NY that complies with the demands on location, price and venues. The data required to resolve this challenge is described in the following section 2, below.\n\n### Interested Audience\n\nI believe this is a relevant challenge with valid questions for anyone moving to other large city in US, EU or Asia. The same methodology can be applied in accordance to demands as applicable. This case is also applicable for anyone interested in exploring starting or locating a new business in any city. Lastly, it can also serve as a good practical exercise to develop Data Science skills."
        },
        {
            "cell_type": "markdown",
            "metadata": {},
            "source": "## 2. Data Section :\n### Description of the data and its sources that will be used to solve the problem\n\n\n#### Description of the Data:\nThe following data is required to answer the issues of the problem:\n\n- List of Boroughs and neighborhoods of Manhattan with their geodata (latitude and longitude)\n- List of Subway metro stations in Manhattan with their address location\n- List of apartments for rent in Manhattan area with their addresses and price\n- Preferably, a list of apartment for rent with additional information, such as price, address, area, number of beds, etc\n- Venues for each Manhattan neighborhood ( than can be clustered)\n- Venues for subway metro stations, as needed\n\n#### How the data be used to solve the problem:\nThe data will be used as follows:\n\n- Use Foursquare and geopy data to map top 10 venues for all Manhattan neighborhoods and clustered in groups ( as per Course LAB)\n- Use foursquare and geopy data to map the location of subway metro stations , separately and on top of the above clustered map in order to be able to identify the venues and ammenities near each metro station, or explore each subway location separately\n- Use Foursquare and geopy data to map the location of rental places, in some form, linked to the subway locations.\ncreate a map that depicts, for instance, the average rental price per square ft, around a radious of 1.0 mile (1.6 km) around each subway station - or a similar metrics. I will be able to quickly point to the popups to know the relative price per subway area.\n- Addresses from rental locations will be converted to geodata( lat, long) using Geopy-distance and Nominatim.\n- Data will be searched in open data sources if available, from real estate sites if open to reading, libraries or other government agencies such as Metro New York MTA, etc.\n\nThe procesing of these DATA will allow to answer the key questions to make a decision:\n\n- What is the cost of rent (per square ft) around a mile radius from each subway metro station?\n- What is the area of Manhattan with best rental pricing that meets criteria established?\n- What is the distance from work place ( Park Ave and 53 rd St) and the tentative future home?\n- What are the venues of the two best places to live? How the prices compare?\n- How venues distribute among Manhattan neighborhoods and around metro stations?\n- Are there tradeoffs between size and price and location?\n- Any other interesting statistical data findings of the real estate and overall data."
        },
        {
            "cell_type": "code",
            "execution_count": null,
            "metadata": {},
            "outputs": [],
            "source": ""
        }
    ],
    "metadata": {
        "kernelspec": {
            "display_name": "Python 3.6",
            "language": "python",
            "name": "python3"
        },
        "language_info": {
            "codemirror_mode": {
                "name": "ipython",
                "version": 3
            },
            "file_extension": ".py",
            "mimetype": "text/x-python",
            "name": "python",
            "nbconvert_exporter": "python",
            "pygments_lexer": "ipython3",
            "version": "3.6.9"
        }
    },
    "nbformat": 4,
    "nbformat_minor": 1
}